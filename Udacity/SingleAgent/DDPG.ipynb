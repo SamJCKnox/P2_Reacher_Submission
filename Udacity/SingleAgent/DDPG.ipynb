{
 "cells": [
  {
   "cell_type": "markdown",
   "metadata": {},
   "source": [
    "# Deep Deterministic Policy Gradients (DDPG)\n",
    "---\n",
    "In this notebook, we train DDPG with OpenAI Gym's Pendulum-v0 environment.\n",
    "\n",
    "### 1. Import the Necessary Packages"
   ]
  },
  {
   "cell_type": "code",
   "execution_count": 1,
   "metadata": {},
   "outputs": [],
   "source": [
    "import gym\n",
    "import random\n",
    "import torch\n",
    "import numpy as np\n",
    "from collections import deque\n",
    "import matplotlib.pyplot as plt\n",
    "%matplotlib inline\n",
    "\n",
    "from ddpg_agent import Agent\n",
    "\n",
    "from unityagents import UnityEnvironment\n",
    "\n",
    "import pdb"
   ]
  },
  {
   "cell_type": "markdown",
   "metadata": {},
   "source": [
    "### 2. Instantiate the Environment and Agent"
   ]
  },
  {
   "cell_type": "code",
   "execution_count": 2,
   "metadata": {},
   "outputs": [
    {
     "name": "stderr",
     "output_type": "stream",
     "text": [
      "INFO:unityagents:\n",
      "'Academy' started successfully!\n",
      "Unity Academy name: Academy\n",
      "        Number of Brains: 1\n",
      "        Number of External Brains : 1\n",
      "        Lesson number : 0\n",
      "        Reset Parameters :\n",
      "\t\tgoal_speed -> 1.0\n",
      "\t\tgoal_size -> 5.0\n",
      "Unity brain name: ReacherBrain\n",
      "        Number of Visual Observations (per agent): 0\n",
      "        Vector Observation space type: continuous\n",
      "        Vector Observation space size (per agent): 33\n",
      "        Number of stacked Vector Observation: 1\n",
      "        Vector Action space type: continuous\n",
      "        Vector Action space size (per agent): 4\n",
      "        Vector Action descriptions: , , , \n"
     ]
    }
   ],
   "source": [
    "path = 'C:\\\\Users\\\\mbgpcsk4\\\\Dropbox (The University of Manchester)\\\\D2019\\\\University\\\\Udacity\\\\P2_Reacher_Submission\\\\Udacity\\\\Reacher_Windows_x86_64\\\\Reacher.exe'\n",
    "\n",
    "env = UnityEnvironment(file_name=path)\n",
    "\n",
    "# get the default brain\n",
    "brain_name = env.brain_names[0]\n",
    "brain = env.brains[brain_name]\n",
    "\n",
    "agent = Agent(state_size=33, action_size=4, random_seed=2)"
   ]
  },
  {
   "cell_type": "code",
   "execution_count": 3,
   "metadata": {
    "scrolled": true
   },
   "outputs": [
    {
     "name": "stdout",
     "output_type": "stream",
     "text": [
      "Actor:\n",
      "\n",
      "None tensor([[-0.0517, -0.0220,  0.0356,  ...,  0.0987, -0.0138,  0.0531],\n",
      "        [ 0.0082,  0.0544,  0.0317,  ..., -0.1095,  0.0334, -0.1024],\n",
      "        [-0.0336,  0.0204, -0.0743,  ..., -0.1066,  0.0006,  0.0996],\n",
      "        ...,\n",
      "        [-0.1038,  0.0649,  0.0238,  ..., -0.0580, -0.0461,  0.0893],\n",
      "        [-0.0921,  0.0331, -0.0533,  ..., -0.0351, -0.0233, -0.0519],\n",
      "        [-0.0162,  0.0222,  0.1032,  ..., -0.0404,  0.0546,  0.0767]], device='cuda:0')\n",
      "None tensor([-0.1623,  0.1447, -0.1121, -0.1483, -0.0748,  0.1489, -0.0329,\n",
      "         0.0765,  0.0120, -0.1717, -0.1592, -0.0586,  0.0689,  0.1432,\n",
      "         0.0856, -0.0976, -0.0201,  0.0676, -0.0421,  0.1485, -0.1726,\n",
      "         0.1512,  0.0408, -0.0114, -0.0859,  0.0218, -0.1649,  0.0894,\n",
      "         0.0292,  0.0925,  0.0933,  0.0656,  0.1494,  0.0883,  0.0931,\n",
      "         0.0081,  0.1258,  0.0891,  0.0947,  0.0411, -0.0500,  0.1534,\n",
      "        -0.1702,  0.1463,  0.0012, -0.1155,  0.1136, -0.0390, -0.0384,\n",
      "        -0.0200, -0.0443, -0.0851,  0.0656,  0.0319,  0.1223,  0.1109,\n",
      "        -0.0373, -0.0333,  0.0654,  0.0459,  0.1511, -0.0684,  0.0981,\n",
      "        -0.0159], device='cuda:0')\n",
      "None tensor([[-0.0468, -0.1623,  0.1398,  ...,  0.0940,  0.0505, -0.0805],\n",
      "        [-0.0658, -0.1712, -0.0356,  ..., -0.0329, -0.0228,  0.0414],\n",
      "        [ 0.1204,  0.1069,  0.0805,  ..., -0.0488,  0.0978, -0.0428],\n",
      "        ...,\n",
      "        [ 0.0280, -0.0379,  0.1478,  ...,  0.0286, -0.1165,  0.1302],\n",
      "        [-0.1179, -0.0593,  0.1280,  ..., -0.1257, -0.1008,  0.1225],\n",
      "        [-0.1191, -0.1215,  0.1572,  ..., -0.1628, -0.0271,  0.1004]], device='cuda:0')\n",
      "None tensor([-0.0595, -0.0110, -0.0982,  0.0026, -0.1139, -0.1003,  0.0669,\n",
      "        -0.0347, -0.0526, -0.0217, -0.1210,  0.1144, -0.0039, -0.0180,\n",
      "        -0.0534,  0.0636, -0.0990,  0.0481, -0.0897, -0.0491, -0.0782,\n",
      "        -0.0783, -0.0168, -0.0903, -0.0839, -0.1215,  0.0331, -0.0957,\n",
      "        -0.0146, -0.0302, -0.1014, -0.0837], device='cuda:0')\n",
      "None tensor(1.00000e-03 *\n",
      "       [[ 1.4001,  1.4911,  0.8075,  1.0465,  0.7366, -0.2823, -1.1658,\n",
      "          0.6226,  0.2540,  0.0741,  2.8298, -0.8277, -2.6245, -2.5513,\n",
      "          1.3135, -0.3103, -1.7175, -1.2479,  2.1298, -0.4180,  2.3597,\n",
      "          2.2705, -0.7238,  2.1647,  2.8026,  1.5799, -1.6820, -1.1314,\n",
      "         -1.3881, -2.9014, -1.8442, -2.5880],\n",
      "        [ 2.2746, -1.3187, -0.7079,  0.9623,  0.3363, -1.8730, -1.2360,\n",
      "         -0.5554,  0.0754, -0.1568,  1.3158,  0.0150, -1.7450, -1.1973,\n",
      "         -0.6939,  2.0406,  2.1453, -2.5471, -2.3131,  0.4097,  1.3386,\n",
      "         -0.5565,  0.9842,  0.0122, -1.5041,  1.5223, -1.0056, -1.9452,\n",
      "         -0.0742, -1.2570,  1.6580,  2.6815],\n",
      "        [ 1.8584, -0.9298, -1.4690, -1.0784, -1.7167, -0.8762,  2.5277,\n",
      "          2.9709, -1.1381,  0.9801,  0.1857,  0.7680, -2.3233, -1.6367,\n",
      "         -0.7074, -0.9373, -0.6461,  0.8247, -0.0928, -2.4708,  0.1260,\n",
      "          0.5952,  2.1699, -1.6211, -1.6980,  2.1135, -1.1020,  1.0289,\n",
      "          2.4477, -0.5419, -0.2642, -1.7681],\n",
      "        [ 1.4333,  1.5432, -2.5334,  1.8100,  2.9211,  2.7754,  1.0902,\n",
      "          2.8900,  0.5273, -1.5352, -2.3586, -2.3786,  1.1910,  1.2730,\n",
      "         -1.5168,  0.2312, -1.2913,  1.2881, -2.1174,  0.3548, -0.8930,\n",
      "         -1.7099, -1.0748,  2.9459,  0.6844, -2.4271,  1.1352, -2.5642,\n",
      "          2.3912, -2.5147, -0.9761, -2.7975]], device='cuda:0')\n",
      "None tensor([ 0.0760, -0.1416,  0.1440, -0.1271], device='cuda:0')\n",
      "\n",
      "Critic:\n",
      "\n",
      "None tensor([[ 0.0790,  0.0987, -0.0138,  ...,  0.0597, -0.0310, -0.0691],\n",
      "        [ 0.0109, -0.1095,  0.0334,  ..., -0.1197, -0.0625,  0.1128],\n",
      "        [ 0.0117, -0.1066,  0.0006,  ..., -0.1236, -0.1126,  0.0557],\n",
      "        ...,\n",
      "        [-0.0525, -0.0580, -0.0461,  ..., -0.0424, -0.1066,  0.0431],\n",
      "        [-0.1167, -0.0351, -0.0233,  ...,  0.0361,  0.0038, -0.0527],\n",
      "        [ 0.0893, -0.0404,  0.0546,  ..., -0.1218, -0.0556,  0.1084]], device='cuda:0')\n",
      "None tensor([-0.1623,  0.1447, -0.1121, -0.1483, -0.0748,  0.1489, -0.0329,\n",
      "         0.0765,  0.0120, -0.1717, -0.1592, -0.0586,  0.0689,  0.1432,\n",
      "         0.0856, -0.0976, -0.0201,  0.0676, -0.0421,  0.1485, -0.1726,\n",
      "         0.1512,  0.0408, -0.0114, -0.0859,  0.0218, -0.1649,  0.0894,\n",
      "         0.0292,  0.0925,  0.0933,  0.0656,  0.1494,  0.0883,  0.0931,\n",
      "         0.0081,  0.1258,  0.0891,  0.0947,  0.0411, -0.0500,  0.1534,\n",
      "        -0.1702,  0.1463,  0.0012, -0.1155,  0.1136, -0.0390, -0.0384,\n",
      "        -0.0200, -0.0443, -0.0851,  0.0656,  0.0319,  0.1223,  0.1109,\n",
      "        -0.0373, -0.0333,  0.0654,  0.0459,  0.1511, -0.0684,  0.0981,\n",
      "        -0.0159], device='cuda:0')\n",
      "None tensor([[ 0.0347,  0.0164, -0.0075,  ..., -0.1297,  0.0735, -0.0519],\n",
      "        [ 0.0054,  0.0823, -0.0874,  ..., -0.1087, -0.1555,  0.1211],\n",
      "        [-0.0507,  0.1493, -0.1197,  ..., -0.0128,  0.0894,  0.0458],\n",
      "        ...,\n",
      "        [-0.0136, -0.0484,  0.0942,  ...,  0.1255, -0.0246,  0.1390],\n",
      "        [ 0.1338, -0.0427,  0.1276,  ...,  0.1279, -0.0955, -0.1001],\n",
      "        [ 0.1245, -0.0649,  0.0606,  ..., -0.1210, -0.1051,  0.1627]], device='cuda:0')\n",
      "None tensor([-0.0766,  0.0050,  0.0324,  0.0175, -0.0429, -0.0597,  0.0303,\n",
      "        -0.1118,  0.0258,  0.0304, -0.0932,  0.0781, -0.1077, -0.0693,\n",
      "        -0.1202,  0.1083,  0.0548,  0.0138, -0.1125,  0.0681, -0.0637,\n",
      "        -0.1026, -0.0668,  0.0183, -0.1118,  0.1144,  0.0329,  0.1193,\n",
      "        -0.0044,  0.0523,  0.0574,  0.0806], device='cuda:0')\n",
      "None tensor(1.00000e-03 *\n",
      "       [[ 2.6951,  2.3105,  0.6560,  0.3671, -2.6961,  0.5789,  1.7084,\n",
      "          2.7365, -1.0832, -2.5341,  0.7155,  0.7927, -1.1294, -1.7988,\n",
      "         -2.1085,  0.3328,  2.6655,  1.4359, -1.5580,  2.4016,  2.6596,\n",
      "          0.8555,  2.5458, -2.1518,  1.4160, -1.6300,  2.6122,  2.0061,\n",
      "          1.6255,  2.5823,  0.2518, -0.5833]], device='cuda:0')\n",
      "None tensor([ 0.1605], device='cuda:0')\n"
     ]
    }
   ],
   "source": [
    "agent.reset()\n",
    "agent.print_params()"
   ]
  },
  {
   "cell_type": "markdown",
   "metadata": {},
   "source": [
    "### 3. Train the Agent with DDPG"
   ]
  },
  {
   "cell_type": "code",
   "execution_count": 4,
   "metadata": {},
   "outputs": [
    {
     "name": "stdout",
     "output_type": "stream",
     "text": [
      "Episode 500\tAverage Score: 0.26\n",
      "Episode 1000\tAverage Score: 0.56\n"
     ]
    },
    {
     "data": {
      "image/png": "[encoded data removed]",
      "text/plain": [
       "<Figure size 432x288 with 1 Axes>"
      ]
     },
     "metadata": {
      "needs_background": "light"
     },
     "output_type": "display_data"
    }
   ],
   "source": [
    "def ddpg(n_episodes=1000, max_t=300, print_every=500):\n",
    "    scores_deque = deque(maxlen=print_every)\n",
    "    scores = []\n",
    "    for i_episode in range(1, n_episodes+1):\n",
    "        env_info = env.reset(train_mode=True)[brain_name]     # reset the environment    \n",
    "        states = env_info.vector_observations                  # get the current state (for each agent)\n",
    "        score = 0\n",
    "        for t in range(1, max_t):\n",
    "            #pdb.set_trace()\n",
    "            actions = agent.act(states)\n",
    "            env_info = env.step(action)[brain_name]\n",
    "            next_states = env_info.vector_observations \n",
    "            rewards = env_info.rewards                         # get reward (for each agent)\n",
    "\n",
    "            dones = env_info.local_done                        # see if episode finished \n",
    "            agent.step(states, actions, rewards, next_states, dones)\n",
    "            states = next_states\n",
    "            score += np.mean(rewards)\n",
    "            if done[0]:\n",
    "                break \n",
    "                \n",
    "        scores_deque.append(score)\n",
    "        scores.append(score)\n",
    "        print('\\rEpisode {}\\tAverage Score: {:.2f}'.format(i_episode, np.mean(scores_deque)), end=\"\")\n",
    "        torch.save(agent.actor_local.state_dict(), 'checkpoint_actor.pth')\n",
    "        torch.save(agent.critic_local.state_dict(), 'checkpoint_critic.pth')\n",
    "        if i_episode % print_every == 0:\n",
    "            print('\\rEpisode {}\\tAverage Score: {:.2f}'.format(i_episode, np.mean(scores_deque)))\n",
    "            \n",
    "    return scores\n",
    "\n",
    "scores = ddpg()\n",
    "\n",
    "fig = plt.figure()\n",
    "ax = fig.add_subplot(111)\n",
    "plt.plot(np.arange(1, len(scores)+1), scores)\n",
    "plt.ylabel('Score')\n",
    "plt.xlabel('Episode #')\n",
    "plt.show()"
   ]
  },
  {
   "cell_type": "markdown",
   "metadata": {},
   "source": [
    "### 4. Watch a Smart Agent!"
   ]
  },
  {
   "cell_type": "code",
   "execution_count": 4,
   "metadata": {},
   "outputs": [],
   "source": [
    "agent.actor_local.load_state_dict(torch.load('checkpoint_actor.pth'))\n",
    "agent.critic_local.load_state_dict(torch.load('checkpoint_critic.pth'))\n",
    "\n",
    "state = env.reset()\n",
    "for t in range(200):\n",
    "    action = agent.act(state, add_noise=False)\n",
    "    env.render()\n",
    "    state, reward, done, _ = env.step(action)\n",
    "    if done:\n",
    "        break \n",
    "\n"
   ]
  },
  {
   "cell_type": "markdown",
   "metadata": {},
   "source": [
    "### 6. Explore\n",
    "\n",
    "In this exercise, we have provided a sample DDPG agent and demonstrated how to use it to solve an OpenAI Gym environment.  To continue your learning, you are encouraged to complete any (or all!) of the following tasks:\n",
    "- Amend the various hyperparameters and network architecture to see if you can get your agent to solve the environment faster than this benchmark implementation.  Once you build intuition for the hyperparameters that work well with this environment, try solving a different OpenAI Gym task!\n",
    "- Write your own DDPG implementation.  Use this code as reference only when needed -- try as much as you can to write your own algorithm from scratch.\n",
    "- You may also like to implement prioritized experience replay, to see if it speeds learning.  \n",
    "- The current implementation adds Ornsetein-Uhlenbeck noise to the action space.  However, it has [been shown](https://blog.openai.com/better-exploration-with-parameter-noise/) that adding noise to the parameters of the neural network policy can improve performance.  Make this change to the code, to verify it for yourself!\n",
    "- Write a blog post explaining the intuition behind the DDPG algorithm and demonstrating how to use it to solve an RL environment of your choosing.  "
   ]
  }
 ],
 "metadata": {
  "kernelspec": {
   "display_name": "Python 3",
   "language": "python",
   "name": "python3"
  },
  "language_info": {
   "codemirror_mode": {
    "name": "ipython",
    "version": 3
   },
   "file_extension": ".py",
   "mimetype": "text/x-python",
   "name": "python",
   "nbconvert_exporter": "python",
   "pygments_lexer": "ipython3",
   "version": "3.6.3"
  }
 },
 "nbformat": 4,
 "nbformat_minor": 2
}
